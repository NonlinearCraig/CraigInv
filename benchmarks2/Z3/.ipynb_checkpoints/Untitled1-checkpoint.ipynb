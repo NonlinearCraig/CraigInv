{
 "cells": [
  {
   "cell_type": "code",
   "execution_count": 5,
   "id": "52f12d33-8204-4278-bfff-ec15f1c08b32",
   "metadata": {},
   "outputs": [
    {
     "ename": "TypeError",
     "evalue": "unsupported operand type(s) for ^: 'ArithRef' and 'ArithRef'",
     "output_type": "error",
     "traceback": [
      "\u001b[1;31m---------------------------------------------------------------------------\u001b[0m",
      "\u001b[1;31mTypeError\u001b[0m                                 Traceback (most recent call last)",
      "Cell \u001b[1;32mIn[5], line 8\u001b[0m\n\u001b[0;32m      5\u001b[0m va,ve,vr,vq,vp,a0,a1,a2,a3,a4,a5 \u001b[38;5;241m=\u001b[39m Reals(\u001b[38;5;124m'\u001b[39m\u001b[38;5;124mva ve vr vq vp a0 a1 a2 a3 a4 a5\u001b[39m\u001b[38;5;124m'\u001b[39m)\n\u001b[0;32m      6\u001b[0m xrange \u001b[38;5;241m=\u001b[39m And(va\u001b[38;5;241m>\u001b[39m\u001b[38;5;241m=\u001b[39m\u001b[38;5;241m-\u001b[39m\u001b[38;5;241m50\u001b[39m, va\u001b[38;5;241m<\u001b[39m\u001b[38;5;241m=\u001b[39m\u001b[38;5;241m50\u001b[39m,ve\u001b[38;5;241m>\u001b[39m\u001b[38;5;241m=\u001b[39m\u001b[38;5;241m-\u001b[39m\u001b[38;5;241m50\u001b[39m, ve\u001b[38;5;241m<\u001b[39m\u001b[38;5;241m=\u001b[39m\u001b[38;5;241m50\u001b[39m,vr\u001b[38;5;241m<\u001b[39m\u001b[38;5;241m=\u001b[39m\u001b[38;5;241m50\u001b[39m,vr\u001b[38;5;241m>\u001b[39m\u001b[38;5;241m=\u001b[39m\u001b[38;5;241m-\u001b[39m\u001b[38;5;241m50\u001b[39m,vq\u001b[38;5;241m<\u001b[39m\u001b[38;5;241m=\u001b[39m\u001b[38;5;241m50\u001b[39m,vq\u001b[38;5;241m>\u001b[39m\u001b[38;5;241m=\u001b[39m\u001b[38;5;241m-\u001b[39m\u001b[38;5;241m50\u001b[39m,vp\u001b[38;5;241m<\u001b[39m\u001b[38;5;241m=\u001b[39m\u001b[38;5;241m50\u001b[39m,vp\u001b[38;5;241m>\u001b[39m\u001b[38;5;241m=\u001b[39m\u001b[38;5;241m-\u001b[39m\u001b[38;5;241m50\u001b[39m)\n\u001b[1;32m----> 8\u001b[0m inv \u001b[38;5;241m=\u001b[39m And(a0\u001b[38;5;241m+\u001b[39ma1\u001b[38;5;241m*\u001b[39mva\u001b[38;5;241m+\u001b[39ma2\u001b[38;5;241m*\u001b[39mve\u001b[38;5;241m+\u001b[39ma3\u001b[38;5;241m*\u001b[39mvr\u001b[38;5;241m+\u001b[39ma4\u001b[38;5;241m*\u001b[39mvq\u001b[38;5;241m+\u001b[39ma5\u001b[38;5;241m*\u001b[39mvp\u001b[38;5;241m>\u001b[39m\u001b[38;5;241m=\u001b[39m\u001b[38;5;241m0\u001b[39m,va \u001b[38;5;241m==\u001b[39m vq\u001b[38;5;241m^\u001b[39m\u001b[38;5;241m2\u001b[39m \u001b[38;5;241m+\u001b[39m \u001b[38;5;241m2\u001b[39m\u001b[38;5;241m*\u001b[39mvp\u001b[38;5;241m*\u001b[39mvr)\n\u001b[0;32m     11\u001b[0m guard1 \u001b[38;5;241m=\u001b[39m ve \u001b[38;5;241m-\u001b[39m \u001b[38;5;241m2\u001b[39m\u001b[38;5;241m*\u001b[39mvp\u001b[38;5;241m*\u001b[39mvr\u001b[38;5;241m>\u001b[39m\u001b[38;5;241m=\u001b[39m\u001b[38;5;241m0\u001b[39m\n\u001b[0;32m     14\u001b[0m va1\u001b[38;5;241m=\u001b[39mva\n",
      "\u001b[1;31mTypeError\u001b[0m: unsupported operand type(s) for ^: 'ArithRef' and 'ArithRef'"
     ]
    }
   ],
   "source": [
    "# code 2 in paper >3600s\n",
    "from z3 import *\n",
    "import time\n",
    "start = time.time()\n",
    "va,ve,vr,vq,vp,a0,a1,a2,a3,a4,a5 = Reals('va ve vr vq vp a0 a1 a2 a3 a4 a5')\n",
    "xrange = And(va>=-50, va<=50,ve>=-50, ve<=50,vr<=50,vr>=-50,vq<=50,vq>=-50,vp<=50,vp>=-50)\n",
    "\n",
    "inv = And(a0+a1*va+a2*ve+a3*vr+a4*vq+a5*vp>=0,va == vq**2 + 2*vp*vr)\n",
    "\n",
    "\n",
    "guard1 = ve - 2*vp*vr>=0\n",
    "\n",
    "\n",
    "va1=va\n",
    "ve1=ve\n",
    "vr1=2*vr - 2*vq - vp\n",
    "vq1=vq + vp\n",
    "vp1=vp/2\n",
    "\n",
    "va2=va\n",
    "ve2=ve\n",
    "vr2=2*vr\n",
    "vq2=vq\n",
    "vp2=vp/2\n",
    "\n",
    "\n",
    "inv_f1= And(a0+a1*va1+a2*ve1+a3*vr1+a4*vq1+a5*vp1>=0,va1 == vq1**2 + 2*vp1*vr1)\n",
    "\n",
    "inv_f2=  And(a0+a1*va2+a2*ve2+a3*vr2+a4*vq2+a5*vp2>=0,va2 == vq2**2 + 2*vp2*vr2)\n",
    "\n",
    "loop_cond1 = -2*vr + 2*vq + vp>=0\n",
    "loop_cond2=2*vr - 2*vq - vp>=0\n",
    "\n",
    "pre=And(  1 - va + vr <= 0,-1 + va - vr <= 0,-1 + vq <= 0,1 - vq <= 0,-0.5 + vp <= 0,0.5 - vp <= 0,1 - va <= 0,-ve <= 0)\n",
    "\n",
    "\n",
    "post =va - ve - vq^2 <= 0\n",
    "\n",
    "cons1 = ForAll([x,r,s,a],Implies(And(pre, xrange), inv))\n",
    "cons2 = ForAll([x,r,s,a],Implies(And(inv, guard1, loop_cond1, xrange), inv_f1))\n",
    "cons2 = ForAll([x,r,s,a],Implies(And(inv, guard1, loop_cond2, xrange), inv_f2))\n",
    "cons3 = ForAll([x,r,s,a],Implies(And(inv, Not(guard1),xrange),post))\n",
    "               \n",
    "s = Solver()\n",
    "s.add( cons1, cons2, cons3)\n"
   ]
  },
  {
   "cell_type": "code",
   "execution_count": null,
   "id": "6b11a931-56d6-4373-b9c6-f319f8ca01ef",
   "metadata": {},
   "outputs": [],
   "source": []
  }
 ],
 "metadata": {
  "kernelspec": {
   "display_name": "Python 3 (ipykernel)",
   "language": "python",
   "name": "python3"
  },
  "language_info": {
   "codemirror_mode": {
    "name": "ipython",
    "version": 3
   },
   "file_extension": ".py",
   "mimetype": "text/x-python",
   "name": "python",
   "nbconvert_exporter": "python",
   "pygments_lexer": "ipython3",
   "version": "3.12.4"
  }
 },
 "nbformat": 4,
 "nbformat_minor": 5
}
