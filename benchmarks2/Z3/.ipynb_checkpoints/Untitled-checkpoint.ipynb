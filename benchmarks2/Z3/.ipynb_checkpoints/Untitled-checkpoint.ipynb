{
 "cells": [
  {
   "cell_type": "code",
   "execution_count": 1,
   "id": "f865f423-74f9-4ab1-905e-dba0dd89a972",
   "metadata": {},
   "outputs": [],
   "source": []
  },
  {
   "cell_type": "code",
   "execution_count": 1,
   "id": "dd86b3f8-79be-496d-818a-286561ffc63f",
   "metadata": {},
   "outputs": [
    {
     "name": "stdout",
     "output_type": "stream",
     "text": [
      "C:\\Users\\zhaoy\\Desktop\\CraigInv\\benchmarks2\\Z3\\smt2\n"
     ]
    }
   ],
   "source": [
    "cd smt2"
   ]
  },
  {
   "cell_type": "code",
   "execution_count": 2,
   "id": "5c319572-a364-4afc-b121-95e5dedc3618",
   "metadata": {},
   "outputs": [],
   "source": [
    "import os \n",
    "filelist=os.listdir()"
   ]
  },
  {
   "cell_type": "code",
   "execution_count": 3,
   "id": "7e5d7eff-371c-4e9f-9f12-f8a16493f4f0",
   "metadata": {},
   "outputs": [],
   "source": [
    "import time\n",
    "from z3 import *"
   ]
  },
  {
   "cell_type": "code",
   "execution_count": null,
   "id": "c47108fa-5c9e-4596-948a-41983d4434fd",
   "metadata": {},
   "outputs": [],
   "source": []
  },
  {
   "cell_type": "code",
   "execution_count": 4,
   "id": "cdad8db0-3b27-4013-8432-eb145a721118",
   "metadata": {},
   "outputs": [
    {
     "name": "stdout",
     "output_type": "stream",
     "text": [
      "fermat2.c.txt\n",
      "[_a_0_ = 0, _a_1_ = 0]\n",
      "firefly.c.txt\n",
      "[_a_3_ = 0, _a_2_ = 0, _a_0_ = 0, _a_4_ = 0, _a_1_ = 0]\n",
      "freire2.c.txt\n"
     ]
    },
    {
     "ename": "Z3Exception",
     "evalue": "model is not available",
     "output_type": "error",
     "traceback": [
      "\u001b[1;31m---------------------------------------------------------------------------\u001b[0m",
      "\u001b[1;31mZ3Exception\u001b[0m                               Traceback (most recent call last)",
      "File \u001b[1;32m~\\AppData\\Roaming\\Python\\Python312\\site-packages\\z3\\z3.py:7226\u001b[0m, in \u001b[0;36mSolver.model\u001b[1;34m(self)\u001b[0m\n\u001b[0;32m   7225\u001b[0m \u001b[38;5;28;01mtry\u001b[39;00m:\n\u001b[1;32m-> 7226\u001b[0m     \u001b[38;5;28;01mreturn\u001b[39;00m ModelRef(Z3_solver_get_model(\u001b[38;5;28mself\u001b[39m\u001b[38;5;241m.\u001b[39mctx\u001b[38;5;241m.\u001b[39mref(), \u001b[38;5;28mself\u001b[39m\u001b[38;5;241m.\u001b[39msolver), \u001b[38;5;28mself\u001b[39m\u001b[38;5;241m.\u001b[39mctx)\n\u001b[0;32m   7227\u001b[0m \u001b[38;5;28;01mexcept\u001b[39;00m Z3Exception:\n",
      "File \u001b[1;32m~\\AppData\\Roaming\\Python\\Python312\\site-packages\\z3\\z3core.py:4306\u001b[0m, in \u001b[0;36mZ3_solver_get_model\u001b[1;34m(a0, a1, _elems)\u001b[0m\n\u001b[0;32m   4305\u001b[0m r \u001b[38;5;241m=\u001b[39m _elems\u001b[38;5;241m.\u001b[39mf(a0, a1)\n\u001b[1;32m-> 4306\u001b[0m _elems\u001b[38;5;241m.\u001b[39mCheck(a0)\n\u001b[0;32m   4307\u001b[0m \u001b[38;5;28;01mreturn\u001b[39;00m r\n",
      "File \u001b[1;32m~\\AppData\\Roaming\\Python\\Python312\\site-packages\\z3\\z3core.py:1570\u001b[0m, in \u001b[0;36mElementaries.Check\u001b[1;34m(self, ctx)\u001b[0m\n\u001b[0;32m   1569\u001b[0m \u001b[38;5;28;01mif\u001b[39;00m err \u001b[38;5;241m!=\u001b[39m \u001b[38;5;28mself\u001b[39m\u001b[38;5;241m.\u001b[39mOK:\n\u001b[1;32m-> 1570\u001b[0m     \u001b[38;5;28;01mraise\u001b[39;00m \u001b[38;5;28mself\u001b[39m\u001b[38;5;241m.\u001b[39mException(\u001b[38;5;28mself\u001b[39m\u001b[38;5;241m.\u001b[39mget_error_message(ctx, err))\n",
      "\u001b[1;31mZ3Exception\u001b[0m: b'there is no current model'",
      "\nDuring handling of the above exception, another exception occurred:\n",
      "\u001b[1;31mZ3Exception\u001b[0m                               Traceback (most recent call last)",
      "\u001b[1;32m~\\AppData\\Local\\Temp\\ipykernel_21576\\3534767646.py\u001b[0m in \u001b[0;36m?\u001b[1;34m()\u001b[0m\n\u001b[0;32m      2\u001b[0m     \u001b[0ms\u001b[0m \u001b[1;33m=\u001b[0m \u001b[0mSolver\u001b[0m\u001b[1;33m(\u001b[0m\u001b[1;33m)\u001b[0m\u001b[1;33m\u001b[0m\u001b[1;33m\u001b[0m\u001b[0m\n\u001b[0;32m      3\u001b[0m     \u001b[0ms\u001b[0m\u001b[1;33m.\u001b[0m\u001b[0mfrom_file\u001b[0m\u001b[1;33m(\u001b[0m\u001b[0mfile\u001b[0m\u001b[1;33m)\u001b[0m\u001b[1;33m\u001b[0m\u001b[1;33m\u001b[0m\u001b[0m\n\u001b[0;32m      4\u001b[0m     \u001b[0mprint\u001b[0m\u001b[1;33m(\u001b[0m\u001b[0mfile\u001b[0m\u001b[1;33m)\u001b[0m\u001b[1;33m\u001b[0m\u001b[1;33m\u001b[0m\u001b[0m\n\u001b[0;32m      5\u001b[0m     \u001b[0ms\u001b[0m\u001b[1;33m.\u001b[0m\u001b[0mcheck\u001b[0m\u001b[1;33m(\u001b[0m\u001b[1;33m)\u001b[0m\u001b[1;33m\u001b[0m\u001b[1;33m\u001b[0m\u001b[0m\n\u001b[1;32m----> 6\u001b[1;33m     \u001b[0mprint\u001b[0m\u001b[1;33m(\u001b[0m\u001b[0ms\u001b[0m\u001b[1;33m.\u001b[0m\u001b[0mmodel\u001b[0m\u001b[1;33m(\u001b[0m\u001b[1;33m)\u001b[0m\u001b[1;33m)\u001b[0m\u001b[1;33m\u001b[0m\u001b[1;33m\u001b[0m\u001b[0m\n\u001b[0m",
      "\u001b[1;32m~\\AppData\\Roaming\\Python\\Python312\\site-packages\\z3\\z3.py\u001b[0m in \u001b[0;36m?\u001b[1;34m(self)\u001b[0m\n\u001b[0;32m   7224\u001b[0m         \"\"\"\n\u001b[0;32m   7225\u001b[0m         \u001b[1;32mtry\u001b[0m\u001b[1;33m:\u001b[0m\u001b[1;33m\u001b[0m\u001b[1;33m\u001b[0m\u001b[0m\n\u001b[0;32m   7226\u001b[0m             \u001b[1;32mreturn\u001b[0m \u001b[0mModelRef\u001b[0m\u001b[1;33m(\u001b[0m\u001b[0mZ3_solver_get_model\u001b[0m\u001b[1;33m(\u001b[0m\u001b[0mself\u001b[0m\u001b[1;33m.\u001b[0m\u001b[0mctx\u001b[0m\u001b[1;33m.\u001b[0m\u001b[0mref\u001b[0m\u001b[1;33m(\u001b[0m\u001b[1;33m)\u001b[0m\u001b[1;33m,\u001b[0m \u001b[0mself\u001b[0m\u001b[1;33m.\u001b[0m\u001b[0msolver\u001b[0m\u001b[1;33m)\u001b[0m\u001b[1;33m,\u001b[0m \u001b[0mself\u001b[0m\u001b[1;33m.\u001b[0m\u001b[0mctx\u001b[0m\u001b[1;33m)\u001b[0m\u001b[1;33m\u001b[0m\u001b[1;33m\u001b[0m\u001b[0m\n\u001b[0;32m   7227\u001b[0m         \u001b[1;32mexcept\u001b[0m \u001b[0mZ3Exception\u001b[0m\u001b[1;33m:\u001b[0m\u001b[1;33m\u001b[0m\u001b[1;33m\u001b[0m\u001b[0m\n\u001b[1;32m-> 7228\u001b[1;33m             \u001b[1;32mraise\u001b[0m \u001b[0mZ3Exception\u001b[0m\u001b[1;33m(\u001b[0m\u001b[1;34m\"model is not available\"\u001b[0m\u001b[1;33m)\u001b[0m\u001b[1;33m\u001b[0m\u001b[1;33m\u001b[0m\u001b[0m\n\u001b[0m",
      "\u001b[1;31mZ3Exception\u001b[0m: model is not available"
     ]
    }
   ],
   "source": [
    "for file in filelist:\n",
    "    s = Solver()\n",
    "    s.from_file(file)\n",
    "    print(file)\n",
    "    s.check()\n",
    "    print(s.model())"
   ]
  },
  {
   "cell_type": "code",
   "execution_count": 9,
   "id": "2602156e-1d15-4d10-8fe8-24a93f49c24b",
   "metadata": {},
   "outputs": [],
   "source": [
    "s = Solver()"
   ]
  },
  {
   "cell_type": "code",
   "execution_count": 10,
   "id": "d063d019-6b2d-4a33-adb6-59673017f52c",
   "metadata": {},
   "outputs": [],
   "source": [
    "s.from_file('berkeley.c.txt')"
   ]
  },
  {
   "cell_type": "code",
   "execution_count": 12,
   "id": "89344b16-acb4-4f27-bb20-572bfbb3a2ce",
   "metadata": {},
   "outputs": [
    {
     "data": {
      "text/html": [
       "<b>sat</b>"
      ],
      "text/plain": [
       "sat"
      ]
     },
     "execution_count": 12,
     "metadata": {},
     "output_type": "execute_result"
    }
   ],
   "source": [
    "s.check()"
   ]
  },
  {
   "cell_type": "code",
   "execution_count": 8,
   "id": "6d10cad5-b4ea-4169-8fe7-9ef73fcd28a4",
   "metadata": {},
   "outputs": [],
   "source": [
    "sovler=parse_smt2_file('berkeley.c.txt')"
   ]
  },
  {
   "cell_type": "code",
   "execution_count": 13,
   "id": "5c886d0f-696e-429b-afb8-50770d55ebf9",
   "metadata": {},
   "outputs": [
    {
     "name": "stdout",
     "output_type": "stream",
     "text": [
      "[_a_3_ = 0, _a_4_ = 0, _a_2_ = 0, _a_0_ = 0, _a_1_ = 0]\n"
     ]
    }
   ],
   "source": [
    "print(s.model())"
   ]
  },
  {
   "cell_type": "code",
   "execution_count": null,
   "id": "f7c7d59a-7920-4130-b860-d21301ae29c3",
   "metadata": {},
   "outputs": [],
   "source": [
    "vars10 = {x, r, s, a};\n",
    "domain10 = \n",
    "  And @@ Table[\n",
    "    vars19[[i]] >= 1 && vars19[[i]] <= 50, {i, 1, Length[vars10]}];\n",
    "guardcond10 = -1;\n",
    "loopcond10 = {s - x + 1};\n",
    "f10 = {{x - s, r + 1, s + 6*r + 3, a}};\n",
    "precond10 = \n",
    "  x - a >= 0 && a - x >= 0 && r - 1 >= 0 && 1 - r >= 0 && \n",
    "   s - 3.25 >= 0 && 3.25 - s >= 0 && a >= 1;\n",
    "\n",
    "inv10 = 4*r^3 - 6*r^2 + 3*r + 4*x - 4*a == 1 && -12*r^2 + 4*s == 1 && \n",
    "   1.67998023891 - 0.409237785948*x + 4.51790072418*r - \n",
    "     0.152007224974*r^2 + 0.0219282879106*x^2 - 0.116652036264*x*r >= \n",
    "    0;\n",
    "\n",
    "postcond10 = \n",
    "  4*a - 4*r^3 - 6*r^2 - 3*r <= 0 && 4*r^3 - 6*r^2 + 3*r - 4*a - 1 <= 0;\n",
    "\n",
    "verifyResult[precond10, inv10, guardcond10, loopcond10, postcond10, \n",
    "  f10, vars10, domain10];"
   ]
  },
  {
   "cell_type": "code",
   "execution_count": 2,
   "id": "907f1df7-40d3-469c-bc62-3f21f0faca64",
   "metadata": {},
   "outputs": [
    {
     "ename": "NameError",
     "evalue": "name 'arange' is not defined",
     "output_type": "error",
     "traceback": [
      "\u001b[1;31m---------------------------------------------------------------------------\u001b[0m",
      "\u001b[1;31mNameError\u001b[0m                                 Traceback (most recent call last)",
      "Cell \u001b[1;32mIn[2], line 34\u001b[0m\n\u001b[0;32m     31\u001b[0m cons3 \u001b[38;5;241m=\u001b[39m ForAll([x,r,s,a],Implies(And(inv, Not(guard1),xrange),post))\n\u001b[0;32m     33\u001b[0m s \u001b[38;5;241m=\u001b[39m Solver()\n\u001b[1;32m---> 34\u001b[0m s\u001b[38;5;241m.\u001b[39madd( cons1, cons2, cons3, arange)\n",
      "\u001b[1;31mNameError\u001b[0m: name 'arange' is not defined"
     ]
    }
   ],
   "source": [
    "# code 2 in paper >3600s\n",
    "from z3 import *\n",
    "import time\n",
    "start = time.time()\n",
    "x,r,s,a,a0,a1,a2,a3,a4,a5 = Reals('x r s a a0 a1 a2 a3 a4 a5')\n",
    "xrange = And(x>=-50, x<=50, r>=-50, r<=50,s>=-50,s<=50,a>=-50,a<=50)\n",
    "\n",
    "inv = And(a0+a1*x+a2*x**2+a3*r+a4*r**2+a5*x*r>=0,4*r**3 - 6*r**2 + 3*r + 4*x - 4*a == 1 , -12*r**2 + 4*s == 1)\n",
    "\n",
    "\n",
    "guard1 = -1<=0\n",
    "\n",
    "x1=x-s\n",
    "r1=r + 1\n",
    "s1=s + 6*r + 3\n",
    "a1=a\n",
    "\n",
    "\n",
    "\n",
    "inv_f1=  And(a0+a1*x1+a2*x1**2+a3*r1+a4*r1**2+a5*x1*r1>=0,4*r1**3 - 6*r1**2 + 3*r1 + 4*x1- 4*a1 == 1 , -12*r1**2 + 4*s1 == 1)\n",
    "\n",
    "loop_cond = s - x + 1>=0\n",
    "\n",
    "pre=And( x - a >= 0, a - x >= 0, r - 1 >= 0 ,1 - r >= 0, s - 3.25 >= 0,3.25 - s >= 0,a >= 1)\n",
    "\n",
    "\n",
    "post =And( 4*a - 4*r**3 - 6*r**2 - 3*r <= 0 , 4*r**3 - 6*r**2 + 3*r - 4*a - 1 <= 0)\n",
    "\n",
    "cons1 = ForAll([x,r,s,a],Implies(And(pre, xrange), inv))\n",
    "cons2 = ForAll([x,r,s,a],Implies(And(inv, guard1, loop_cond, xrange), inv_f1))\n",
    "cons3 = ForAll([x,r,s,a],Implies(And(inv, Not(guard1),xrange),post))\n",
    "               \n",
    "s = Solver()\n",
    "s.add( cons1, cons2, cons3)\n"
   ]
  },
  {
   "cell_type": "code",
   "execution_count": null,
   "id": "1995f850-caee-460b-958b-8bd04a587d49",
   "metadata": {},
   "outputs": [],
   "source": [
    "print(s.\n",
    "print(s.check())\n",
    "print(s.model())\n",
    "end = time.time()\n",
    "print(\"Consuming Time: %.8f s\\n\"%((end-start)))"
   ]
  }
 ],
 "metadata": {
  "kernelspec": {
   "display_name": "Python 3 (ipykernel)",
   "language": "python",
   "name": "python3"
  },
  "language_info": {
   "codemirror_mode": {
    "name": "ipython",
    "version": 3
   },
   "file_extension": ".py",
   "mimetype": "text/x-python",
   "name": "python",
   "nbconvert_exporter": "python",
   "pygments_lexer": "ipython3",
   "version": "3.12.4"
  }
 },
 "nbformat": 4,
 "nbformat_minor": 5
}
