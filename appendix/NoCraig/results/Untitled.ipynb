{
 "cells": [
  {
   "cell_type": "code",
   "execution_count": 4,
   "id": "145d2120-c402-4ed7-b4dd-27b7d94f8f16",
   "metadata": {},
   "outputs": [],
   "source": [
    "import os \n",
    "filelist=os.listdir()"
   ]
  },
  {
   "cell_type": "code",
   "execution_count": 7,
   "id": "a5324427-7c3e-4b01-8e5b-5275234b06de",
   "metadata": {},
   "outputs": [],
   "source": [
    "for file in filelist:\n",
    "    if 'txt' in file:\n",
    "        with open(file,'r',encoding='utf-8') as w:\n",
    "            content=w.read()\n",
    "        updated_content = content.replace(\"历时\", \"After\")\n",
    "        updated_content = updated_content.replace(\"second。\", \"seconds\")\n",
    "        with open(file, 'w',encoding='utf-8') as file:\n",
    "            file.write(updated_content)"
   ]
  },
  {
   "cell_type": "code",
   "execution_count": null,
   "id": "093ea462-ceac-4221-b4dc-f646d26b7c0c",
   "metadata": {},
   "outputs": [],
   "source": []
  }
 ],
 "metadata": {
  "kernelspec": {
   "display_name": "Python 3 (ipykernel)",
   "language": "python",
   "name": "python3"
  },
  "language_info": {
   "codemirror_mode": {
    "name": "ipython",
    "version": 3
   },
   "file_extension": ".py",
   "mimetype": "text/x-python",
   "name": "python",
   "nbconvert_exporter": "python",
   "pygments_lexer": "ipython3",
   "version": "3.12.4"
  }
 },
 "nbformat": 4,
 "nbformat_minor": 5
}
