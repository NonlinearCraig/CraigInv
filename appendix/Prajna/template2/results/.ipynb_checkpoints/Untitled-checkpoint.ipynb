{
 "cells": [
  {
   "cell_type": "code",
   "execution_count": 1,
   "id": "23a63f32-35c5-4b91-bb87-ace7e4879126",
   "metadata": {},
   "outputs": [],
   "source": [
    "import os"
   ]
  },
  {
   "cell_type": "code",
   "execution_count": 3,
   "id": "6441ec68-aa49-4f71-9e6d-cf8933fc98ae",
   "metadata": {},
   "outputs": [],
   "source": [
    "filelist=os.listdir()"
   ]
  },
  {
   "cell_type": "code",
   "execution_count": 5,
   "id": "49c6b532-ceea-46b6-82ae-0e0de2aa1b6e",
   "metadata": {},
   "outputs": [],
   "source": [
    "for file in filelist:\n",
    "    if 'txt' in file:\n",
    "        with open(file,'r',encoding='utf-8') as f:\n",
    "            content=f.read()\n",
    "            new_content=content.replace('历时','After')\n",
    "            new_content=new_content.replace('秒。','seconds')\n",
    "        with open(file,'w',encoding='utf-8') as w:\n",
    "            w.write(new_content)\n",
    "            "
   ]
  },
  {
   "cell_type": "code",
   "execution_count": null,
   "id": "99f526f2-75c9-4db9-a8a9-9f7c5d5ec776",
   "metadata": {},
   "outputs": [],
   "source": []
  }
 ],
 "metadata": {
  "kernelspec": {
   "display_name": "Python 3 (ipykernel)",
   "language": "python",
   "name": "python3"
  },
  "language_info": {
   "codemirror_mode": {
    "name": "ipython",
    "version": 3
   },
   "file_extension": ".py",
   "mimetype": "text/x-python",
   "name": "python",
   "nbconvert_exporter": "python",
   "pygments_lexer": "ipython3",
   "version": "3.12.4"
  }
 },
 "nbformat": 4,
 "nbformat_minor": 5
}
