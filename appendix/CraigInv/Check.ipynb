{
 "cells": [
  {
   "cell_type": "markdown",
   "id": "99623063",
   "metadata": {},
   "source": [
    "## car"
   ]
  },
  {
   "cell_type": "markdown",
   "id": "cc011573",
   "metadata": {},
   "source": [
    "with template: inv=1+a1*x1+a2*x1^2 "
   ]
  },
  {
   "cell_type": "markdown",
   "id": "2727db0f",
   "metadata": {},
   "source": [
    "our:0.330825s iter 1 1+8.08012134086*x1-0.100258563544*x1^2>=0"
   ]
  },
  {
   "cell_type": "code",
   "execution_count": 3,
   "id": "11741f33",
   "metadata": {},
   "outputs": [
    {
     "name": "stdout",
     "output_type": "stream",
     "text": [
      "sat\n",
      "[]\n",
      "Consuming Time: 0.02065611 s\n",
      "\n"
     ]
    }
   ],
   "source": [
    "#ex1\n",
    "from z3 import *\n",
    "import time\n",
    "start = time.time()\n",
    "x1,a1,a2,a3= Reals('x1 a1 a2 a3')\n",
    "inv=1+8.0801*x1-0.10025*x1**2>=0\n",
    "\n",
    "inv_f1 =1+8.0801*(x1+0.0005*(1000-0.5418*x1**2))-0.10025*(x1+0.0005*(1000-0.5418*x1**2))**2>=0\n",
    "\n",
    "loop_cond =(x1+1)*(x1-82)<=0\n",
    "pre = x1*(80-x1)>=0\n",
    "post = (x1+10)*(x1-79)<=0\n",
    "\n",
    "cons1 = ForAll([x1],Implies(pre, inv))\n",
    "cons2 = ForAll([x1],Implies(And(inv,loop_cond), inv_f1))\n",
    "cons3 = ForAll([x1],Implies(And(inv, Not(loop_cond)),post))\n",
    "               \n",
    "s = Solver()\n",
    "s.add(cons1, cons2, cons3)\n",
    "print(s.check())\n",
    "print(s.model())\n",
    "end = time.time()\n",
    "print(\"Consuming Time: %.8f s\\n\"%((end-start)))"
   ]
  },
  {
   "cell_type": "markdown",
   "id": "c977e000",
   "metadata": {},
   "source": [
    "# discrete"
   ]
  },
  {
   "cell_type": "markdown",
   "id": "7bdab720",
   "metadata": {},
   "source": [
    "template2: 1+a1*x1^2+a2*x2^2"
   ]
  },
  {
   "cell_type": "markdown",
   "id": "5a84e1c2",
   "metadata": {},
   "source": [
    "our: 0.177471s iter 0\n"
   ]
  },
  {
   "cell_type": "markdown",
   "id": "8489ce97",
   "metadata": {},
   "source": [
    "\"1+0.228568892593*x1^2-0.652003753366*x2^2\""
   ]
  },
  {
   "cell_type": "code",
   "execution_count": 2,
   "id": "caf026e4",
   "metadata": {},
   "outputs": [
    {
     "name": "stdout",
     "output_type": "stream",
     "text": [
      "sat\n",
      "[]\n",
      "Consuming Time: 0.02314782 s\n",
      "\n"
     ]
    }
   ],
   "source": [
    "# code 2 in paper\n",
    "from z3 import *\n",
    "import time\n",
    "start = time.time()\n",
    "x1,x2 = Reals('x1 x2')\n",
    "xrange = And(x1>=-5, x1<=5, x2>=-5, x2<=5)\n",
    "\n",
    "inv = 1+0.2285*x1**2-0.6520*x2**2>=0\n",
    "\n",
    "guard1 = -1<=0\n",
    "inv_f1 =0.2285*(0.9*(x1-0.01*x2))**2 -0.6520*(0.9*(x2+0.01*x1))**2+1>=0\n",
    "\n",
    "loop_cond = 1-x1**2-x2**2>=0\n",
    "pre = x1**2+x2**2-1<=0\n",
    "post = 0.25-x1**2-(x2-2)**2<=0\n",
    "\n",
    "cons1 = ForAll([x1,x2],Implies(And(pre, xrange), inv))\n",
    "cons2 = ForAll([x1,x2],Implies(And(inv, guard1, loop_cond, xrange), inv_f1))\n",
    "cons3 = ForAll([x1,x2],Implies(And(inv, Not(loop_cond),xrange),post))\n",
    "               \n",
    "s = Solver()\n",
    "s.add( cons1, cons2, cons3)\n",
    "print(s.check())\n",
    "print(s.model())\n",
    "end = time.time()\n",
    "print(\"Consuming Time: %.8f s\\n\"%((end-start)))"
   ]
  },
  {
   "cell_type": "markdown",
   "id": "31b37ab5",
   "metadata": {},
   "source": [
    "# logistic"
   ]
  },
  {
   "cell_type": "markdown",
   "id": "60899c64",
   "metadata": {},
   "source": [
    "template inv=1+a1*x+a2*x^2>=0"
   ]
  },
  {
   "cell_type": "markdown",
   "id": "9fbc1daf",
   "metadata": {},
   "source": [
    "our:0.118221s iter 0 1+1.34280899625*x1-1.70277960918*x1^2"
   ]
  },
  {
   "cell_type": "code",
   "execution_count": 4,
   "id": "7e1989f4",
   "metadata": {},
   "outputs": [
    {
     "name": "stdout",
     "output_type": "stream",
     "text": [
      "sat\n",
      "[]\n",
      "Consuming Time: 0.02153683 s\n",
      "\n"
     ]
    }
   ],
   "source": [
    "from z3 import *\n",
    "import time\n",
    "start = time.time()\n",
    "x,a1,a2,a3= Reals('x a1 a2 a3')\n",
    "inv=1+1.342*x-1.702*x**2>=0\n",
    "\n",
    "inv_f1 =1+1.342*(-1.6*x*(1-x))-1.702*(-1.6*x*(1-x))**2>=0\n",
    "\n",
    "\n",
    "loop_cond = (x+0.3)*(1.7-x)>=0\n",
    "pre = x*(1-x)>=0\n",
    "post = (x-1.5)*(x+1)<=0\n",
    "\n",
    "cons1 = ForAll([x],Implies(And(pre), inv))\n",
    "cons2 = ForAll([x],Implies(And(inv,loop_cond), inv_f1))\n",
    "cons3 = ForAll([x],Implies(And(inv, Not(loop_cond)),post))\n",
    "               \n",
    "s = Solver()\n",
    "s.add(cons1, cons2, cons3)\n",
    "print(s.check())\n",
    "print(s.model())\n",
    "end = time.time()\n",
    "print(\"Consuming Time: %.8f s\\n\"%((end-start)))"
   ]
  },
  {
   "cell_type": "markdown",
   "id": "889720e2",
   "metadata": {},
   "source": [
    "# sgd step_size=0.01"
   ]
  },
  {
   "cell_type": "markdown",
   "id": "d1e63031",
   "metadata": {},
   "source": [
    "template:a0+a1*x1-x1^2 "
   ]
  },
  {
   "cell_type": "markdown",
   "id": "805db9cd",
   "metadata": {},
   "source": [
    "0.341552s 1.85564504638+0.0678863082122*x1-x1^2"
   ]
  },
  {
   "cell_type": "code",
   "execution_count": 2,
   "id": "aface684",
   "metadata": {},
   "outputs": [
    {
     "name": "stdout",
     "output_type": "stream",
     "text": [
      "unsat\n"
     ]
    },
    {
     "ename": "Z3Exception",
     "evalue": "model is not available",
     "output_type": "error",
     "traceback": [
      "\u001b[1;31m---------------------------------------------------------------------------\u001b[0m",
      "\u001b[1;31mZ3Exception\u001b[0m                               Traceback (most recent call last)",
      "File \u001b[1;32m~\\AppData\\Roaming\\Python\\Python311\\site-packages\\z3\\z3.py:7131\u001b[0m, in \u001b[0;36mSolver.model\u001b[1;34m(self)\u001b[0m\n\u001b[0;32m   7130\u001b[0m \u001b[38;5;28;01mtry\u001b[39;00m:\n\u001b[1;32m-> 7131\u001b[0m     \u001b[38;5;28;01mreturn\u001b[39;00m ModelRef(Z3_solver_get_model(\u001b[38;5;28mself\u001b[39m\u001b[38;5;241m.\u001b[39mctx\u001b[38;5;241m.\u001b[39mref(), \u001b[38;5;28mself\u001b[39m\u001b[38;5;241m.\u001b[39msolver), \u001b[38;5;28mself\u001b[39m\u001b[38;5;241m.\u001b[39mctx)\n\u001b[0;32m   7132\u001b[0m \u001b[38;5;28;01mexcept\u001b[39;00m Z3Exception:\n",
      "File \u001b[1;32m~\\AppData\\Roaming\\Python\\Python311\\site-packages\\z3\\z3core.py:4185\u001b[0m, in \u001b[0;36mZ3_solver_get_model\u001b[1;34m(a0, a1, _elems)\u001b[0m\n\u001b[0;32m   4184\u001b[0m r \u001b[38;5;241m=\u001b[39m _elems\u001b[38;5;241m.\u001b[39mf(a0, a1)\n\u001b[1;32m-> 4185\u001b[0m _elems\u001b[38;5;241m.\u001b[39mCheck(a0)\n\u001b[0;32m   4186\u001b[0m \u001b[38;5;28;01mreturn\u001b[39;00m r\n",
      "File \u001b[1;32m~\\AppData\\Roaming\\Python\\Python311\\site-packages\\z3\\z3core.py:1505\u001b[0m, in \u001b[0;36mElementaries.Check\u001b[1;34m(self, ctx)\u001b[0m\n\u001b[0;32m   1504\u001b[0m \u001b[38;5;28;01mif\u001b[39;00m err \u001b[38;5;241m!=\u001b[39m \u001b[38;5;28mself\u001b[39m\u001b[38;5;241m.\u001b[39mOK:\n\u001b[1;32m-> 1505\u001b[0m     \u001b[38;5;28;01mraise\u001b[39;00m \u001b[38;5;28mself\u001b[39m\u001b[38;5;241m.\u001b[39mException(\u001b[38;5;28mself\u001b[39m\u001b[38;5;241m.\u001b[39mget_error_message(ctx, err))\n",
      "\u001b[1;31mZ3Exception\u001b[0m: b'there is no current model'",
      "\nDuring handling of the above exception, another exception occurred:\n",
      "\u001b[1;31mZ3Exception\u001b[0m                               Traceback (most recent call last)",
      "Cell \u001b[1;32mIn[2], line 20\u001b[0m\n\u001b[0;32m     18\u001b[0m s\u001b[38;5;241m.\u001b[39madd(cons1, cons2, cons3)\n\u001b[0;32m     19\u001b[0m \u001b[38;5;28mprint\u001b[39m(s\u001b[38;5;241m.\u001b[39mcheck())\n\u001b[1;32m---> 20\u001b[0m \u001b[38;5;28mprint\u001b[39m(s\u001b[38;5;241m.\u001b[39mmodel())\n\u001b[0;32m     21\u001b[0m end \u001b[38;5;241m=\u001b[39m time\u001b[38;5;241m.\u001b[39mtime()\n\u001b[0;32m     22\u001b[0m \u001b[38;5;28mprint\u001b[39m(\u001b[38;5;124m\"\u001b[39m\u001b[38;5;124mConsuming Time: \u001b[39m\u001b[38;5;132;01m%.8f\u001b[39;00m\u001b[38;5;124m s\u001b[39m\u001b[38;5;130;01m\\n\u001b[39;00m\u001b[38;5;124m\"\u001b[39m\u001b[38;5;241m%\u001b[39m((end\u001b[38;5;241m-\u001b[39mstart)))\n",
      "File \u001b[1;32m~\\AppData\\Roaming\\Python\\Python311\\site-packages\\z3\\z3.py:7133\u001b[0m, in \u001b[0;36mSolver.model\u001b[1;34m(self)\u001b[0m\n\u001b[0;32m   7131\u001b[0m     \u001b[38;5;28;01mreturn\u001b[39;00m ModelRef(Z3_solver_get_model(\u001b[38;5;28mself\u001b[39m\u001b[38;5;241m.\u001b[39mctx\u001b[38;5;241m.\u001b[39mref(), \u001b[38;5;28mself\u001b[39m\u001b[38;5;241m.\u001b[39msolver), \u001b[38;5;28mself\u001b[39m\u001b[38;5;241m.\u001b[39mctx)\n\u001b[0;32m   7132\u001b[0m \u001b[38;5;28;01mexcept\u001b[39;00m Z3Exception:\n\u001b[1;32m-> 7133\u001b[0m     \u001b[38;5;28;01mraise\u001b[39;00m Z3Exception(\u001b[38;5;124m\"\u001b[39m\u001b[38;5;124mmodel is not available\u001b[39m\u001b[38;5;124m\"\u001b[39m)\n",
      "\u001b[1;31mZ3Exception\u001b[0m: model is not available"
     ]
    }
   ],
   "source": [
    "import time\n",
    "from z3 import *\n",
    "start = time.time()\n",
    "x1,a1,a2,a3= Reals('x1 a1 a2 a3')\n",
    "inv=1.85564504638+0.0678863082122*x1-x1**2>=0\n",
    "\n",
    "inv_f1 =1.85564504638+0.0678863082122*(x1-0.01*x1*(x1-2)*(x1-4))-(x1-0.01*x1*(x1-2)*(x1-4))**2>=0\n",
    "\n",
    "loop_cond = (x1+2)*(3.5-x1)>=0\n",
    "pre = (x1+1)*(3-x1)>=0;\n",
    "post = (x1-3)*(5-x1)>=0\n",
    "\n",
    "cons1 = ForAll([x1],Implies(And(pre), inv))\n",
    "cons2 = ForAll([x1],Implies(And(inv, guard1, loop_cond), inv_f1))\n",
    "cons3 = ForAll([x1],Implies(And(inv, Not(loop_cond)),post))\n",
    "               \n",
    "s = Solver()\n",
    "s.add(cons1, cons2, cons3)\n",
    "print(s.check())\n",
    "print(s.model())\n",
    "end = time.time()\n",
    "print(\"Consuming Time: %.8f s\\n\"%((end-start)))"
   ]
  },
  {
   "cell_type": "markdown",
   "id": "7b6f759e",
   "metadata": {},
   "source": [
    "# sgd 0.001"
   ]
  },
  {
   "cell_type": "markdown",
   "id": "7c329f9c",
   "metadata": {},
   "source": [
    "template: a0+a1*x1-x1^2"
   ]
  },
  {
   "cell_type": "markdown",
   "id": "62b46767",
   "metadata": {},
   "source": [
    "our 0.316163s 1.85564504638+0.0678863082122*x1-x1^2"
   ]
  },
  {
   "cell_type": "code",
   "execution_count": 4,
   "id": "d81960f1",
   "metadata": {},
   "outputs": [
    {
     "name": "stdout",
     "output_type": "stream",
     "text": [
      "sat\n",
      "[]\n",
      "Consuming Time: 0.02137351 s\n",
      "\n"
     ]
    }
   ],
   "source": [
    "import time\n",
    "from z3 import *\n",
    "start = time.time()\n",
    "x1,a1,a2,a3= Reals('x1 a1 a2 a3')\n",
    "inv=1.85564504638+0.0678863082122*x1-x1**2>=0\n",
    "\n",
    "inv_f1 =1.85564504638+0.0678863082122*(x1-0.001*x1*(x1-2)*(x1-4))-(x1-0.001*x1*(x1-2)*(x1-4))**2>=0\n",
    "\n",
    "loop_cond = (x1+3)*(3-x1)>=0\n",
    "pre = (x1+1)*(1-x1)>=0;\n",
    "post = (x1-3)*(5-x1)>=0\n",
    "guard1 = -1<=0;\n",
    "cons1 = ForAll([x1],Implies(And(pre), inv))\n",
    "cons2 = ForAll([x1],Implies(And(inv, guard1, loop_cond), inv_f1))\n",
    "cons3 = ForAll([x1],Implies(And(inv, Not(loop_cond)),post))\n",
    "               \n",
    "s = Solver()\n",
    "s.add(cons1, cons2, cons3)\n",
    "print(s.check())\n",
    "print(s.model())\n",
    "end = time.time()\n",
    "print(\"Consuming Time: %.8f s\\n\"%((end-start)))"
   ]
  },
  {
   "cell_type": "markdown",
   "id": "ba5064d2",
   "metadata": {},
   "source": [
    "# cav13-1"
   ]
  },
  {
   "cell_type": "markdown",
   "id": "d27e46f0",
   "metadata": {},
   "source": [
    "template:a0+a1*x1^2+a2*x2^2"
   ]
  },
  {
   "cell_type": "markdown",
   "id": "1a833a32",
   "metadata": {},
   "source": [
    "our:0.394792 second: 3.60886409031-1.69839700708*x1^2-2.03873868002*x2^2"
   ]
  },
  {
   "cell_type": "code",
   "execution_count": 9,
   "id": "78706364",
   "metadata": {},
   "outputs": [
    {
     "name": "stdout",
     "output_type": "stream",
     "text": [
      "sat\n",
      "[]\n",
      "Consuming Time: 0.02101016 s\n",
      "\n"
     ]
    }
   ],
   "source": [
    "from z3 import *\n",
    "import time\n",
    "#ex2 time out\n",
    "start = time.time()\n",
    "x1,x2,a1,a2,a3,a4,a5= Reals('x1 x2 a1 a2 a3 a4 a5')\n",
    "inv=3.608-1.698*x1**2-2.038*x2**2>=0\n",
    "\n",
    "inv_f= 3.608-1.698*x1**2-2.038*x2**2>=0\n",
    "\n",
    "\n",
    "loop_cond = 3-x1**2-x2**2>=0\n",
    "pre = 1-x1**2-x2**2>=0\n",
    "post = -x2 + 0.2*x1**2 - 1<=0\n",
    "\n",
    "cons1 = ForAll([x1,x2],Implies(And(pre), inv))\n",
    "cons2 = ForAll([x1,x2],Implies(And(inv,loop_cond), inv_f))\n",
    "cons3 = ForAll([x1,x2],Implies(And(inv, Not(loop_cond)),post))\n",
    "               \n",
    "s = Solver()\n",
    "s.add(cons1, cons2, cons3)\n",
    "print(s.check())\n",
    "print(s.model())\n",
    "end = time.time()\n",
    "print(\"Consuming Time: %.8f s\\n\"%((end-start)))"
   ]
  },
  {
   "cell_type": "markdown",
   "id": "4beae85a",
   "metadata": {},
   "source": [
    "# cav13-2"
   ]
  },
  {
   "cell_type": "markdown",
   "id": "a2f7aae5",
   "metadata": {},
   "source": [
    "with tempalte a0+a1*x1+a2*x2+a3*x1*x2+a4*x1**2+a5*x2**2"
   ]
  },
  {
   "cell_type": "markdown",
   "id": "9129dbf5",
   "metadata": {},
   "source": [
    "0.924484 3 iter second 2.0485+1.099*x2-0.470*x1**2-0.244*x2**2"
   ]
  },
  {
   "cell_type": "code",
   "execution_count": 1,
   "id": "17d3fee2",
   "metadata": {},
   "outputs": [
    {
     "name": "stdout",
     "output_type": "stream",
     "text": [
      "sat\n",
      "[]\n",
      "Consuming Time: 73.87195849 s\n",
      "\n"
     ]
    }
   ],
   "source": [
    "from z3 import *\n",
    "import time\n",
    "#ex2 time out\n",
    "start = time.time()\n",
    "x1,x2,a1,a2,a3,a4,a5= Reals('x1 x2 a1 a2 a3 a4 a5')\n",
    "inv=2.0485+1.099*x2-0.470*x1**2-0.244*x2**2>=0\n",
    "x1_f=x1**2+x2-1\n",
    "x2_f=x2+(x1**2+x2-1)*x2+1\n",
    "\n",
    "inv_f=2.0485+1.099*x2_f-0.470*x1_f**2-0.244*x2_f**2>=0\n",
    "\n",
    "\n",
    "\n",
    "loop_cond = 3-x1**2-x2**2>=0\n",
    "pre = 2-x1**2-x2**2>=0\n",
    "post = -x2 + 0.2*x1**2 - 1.21<=0\n",
    "\n",
    "cons1 = ForAll([x1,x2],Implies(And(pre), inv))\n",
    "cons2 = ForAll([x1,x2],Implies(And(inv,loop_cond), inv_f))\n",
    "cons3 = ForAll([x1,x2],Implies(And(inv, Not(loop_cond)),post))\n",
    "               \n",
    "s = Solver()\n",
    "s.add(cons1, cons2, cons3)\n",
    "print(s.check())\n",
    "print(s.model())\n",
    "end = time.time()\n",
    "print(\"Consuming Time: %.8f s\\n\"%((end-start)))"
   ]
  },
  {
   "cell_type": "markdown",
   "id": "02b23f93",
   "metadata": {},
   "source": [
    "# cohencu"
   ]
  },
  {
   "cell_type": "markdown",
   "id": "e4bbe375",
   "metadata": {},
   "source": [
    "template2: iter 3 a0+a1*x2+a2*x1**2+a3*x1**2>=0"
   ]
  },
  {
   "cell_type": "markdown",
   "id": "40d169b6",
   "metadata": {},
   "source": [
    "1.893327 second 4 iteration"
   ]
  },
  {
   "cell_type": "markdown",
   "id": "dc39ab9f",
   "metadata": {},
   "source": [
    "0.152000413348+0.766286963162*x1+0.349522902493*x2-0.873505559422*x1^2"
   ]
  },
  {
   "cell_type": "code",
   "execution_count": 2,
   "id": "6b107794",
   "metadata": {},
   "outputs": [
    {
     "name": "stdout",
     "output_type": "stream",
     "text": [
      "sat\n"
     ]
    }
   ],
   "source": [
    "# cohencu\n",
    "#template a0+a1*x2+a2*x1**2+a3*x1**2>=0\n",
    "import time\n",
    "from z3 import *\n",
    "# cohencu >600s\n",
    "start = time.time()\n",
    "x1,x2 = Reals('x1 x2')\n",
    "xrange = And(x2>=0, x2<=10, x1>=0,x1<=10)\n",
    "\n",
    "inv =0.152000413348+0.766286963162*x1+0.349522902493*x2-0.873505559422*x1**2>=0\n",
    "\n",
    "x1_f=x1+1\n",
    "x2_f=x2+5.5*x1+5.5\n",
    "\n",
    "\n",
    "inv_f1=0.152000413348+0.766286963162*x1_f+0.349522902493*x2_f-0.873505559422*x1_f**2>=0\n",
    "\n",
    "\n",
    "loop_cond = x1-5<=0\n",
    "pre = And(x2==0,x1==0)\n",
    "post = And(2.5*x1**2+4*x1-x2<=0,x2-3.5*x1**2-3*x1<=0)\n",
    "\n",
    "cons1 = ForAll([x1,x2],Implies(And(pre, xrange), inv))\n",
    "cons2 = ForAll([x1,x2],Implies(And(inv,loop_cond, xrange),inv_f1))\n",
    "cons3 = ForAll([x1,x2],Implies(And(inv, Not(loop_cond),xrange),post))\n",
    "               \n",
    "s = Solver()\n",
    "s.add( cons1, cons2, cons3)\n",
    "print(s.check())"
   ]
  },
  {
   "cell_type": "markdown",
   "id": "97c40e53",
   "metadata": {},
   "source": [
    "# unicycle"
   ]
  },
  {
   "cell_type": "markdown",
   "id": "37f1d580",
   "metadata": {},
   "source": [
    "template2: inv=a0+a1*x1*x2+a2*x2^2+a3*x1^2"
   ]
  },
  {
   "cell_type": "markdown",
   "id": "823f4f39",
   "metadata": {},
   "source": [
    "1.479543 second iter 4 "
   ]
  },
  {
   "cell_type": "markdown",
   "id": "a64dc86f",
   "metadata": {},
   "source": [
    "2.88026566586+0.0122370333583*x1^2+0.012177439725*x2^2"
   ]
  },
  {
   "cell_type": "code",
   "execution_count": 1,
   "id": "3d4a9063",
   "metadata": {},
   "outputs": [
    {
     "name": "stdout",
     "output_type": "stream",
     "text": [
      "sat\n",
      "[]\n",
      "Consume Time: 0.01567030 s\n",
      "\n"
     ]
    }
   ],
   "source": [
    "from z3 import *\n",
    "import time\n",
    "start = time.time()\n",
    "x1,x2= Reals('x1 x2')\n",
    "xvars=[x1,x2]\n",
    "pre = x1**2+(x2-1)**2-1<= 0\n",
    "post = x1**2 + (x2-1)**2 - 4<=0\n",
    "\n",
    "inv =2.88026566586+0.0122370333583*x1**2+0.012177439725*x2**2>=0\n",
    "\n",
    "w = 1.0178 + 1.8721 * x1 - 0.0253 * x2\n",
    "x1_f = x1 + 0.01*(1-x2*w)\n",
    "x2_f = x2 + 0.01*x1*w\n",
    "inv_f1 =2.88026566586+0.0122370333583*x1_f**2+0.012177439725*x2_f**2>=0\n",
    "loop_cond=1>0\n",
    "\n",
    "\n",
    "cons1 = ForAll(xvars,Implies(pre, inv))\n",
    "cons2 = ForAll(xvars,Implies(And(inv, loop_cond), inv_f1))\n",
    "cons3 = ForAll(xvars,Implies(And(inv, Not(loop_cond)),post))\n",
    "               \n",
    "s = Solver()\n",
    "s.add( cons1, cons2, cons3)\n",
    "print(s.check())\n",
    "print(s.model())\n",
    "end = time.time()\n",
    "print(\"Consume Time: %.8f s\\n\"%((end-start)))"
   ]
  },
  {
   "cell_type": "markdown",
   "id": "1f648b88",
   "metadata": {},
   "source": [
    "# CIRCUIT"
   ]
  },
  {
   "cell_type": "markdown",
   "id": "8a2f7c05",
   "metadata": {},
   "source": [
    "template 2"
   ]
  },
  {
   "cell_type": "code",
   "execution_count": 5,
   "id": "ea8007c2",
   "metadata": {},
   "outputs": [
    {
     "name": "stdout",
     "output_type": "stream",
     "text": [
      "unsat\n"
     ]
    }
   ],
   "source": [
    "# circuit  time out\n",
    "# with x and a unbounded and inv = a0+a1*x1+a2*x2+a3*x1**2+a4*x2**2+a5*x1*x2<=0\n",
    "from z3 import *\n",
    "import time\n",
    "start = time.time()\n",
    "x1,x2,a0,a1,a2,a3,a4,a5 = Reals('x1 x2 a0 a1 a2 a3 a4 a5')\n",
    "xvars = [x1,x2]\n",
    "\n",
    "loop_cond = -1<=0\n",
    "\n",
    "pre = (x1-0.5)**2+(x2-0.5)**2-0.25**2<= 0\n",
    "post =x2**2 - 4<=0\n",
    "\n",
    "inv =0.8343-0.6649*x1**2-0.6692*x2**2-0.6692*x1*x2>=0\n",
    "guard1 = -1<=0\n",
    "\n",
    "\n",
    "inv_f1 =0.8343-0.6649*(8/9*x1-1/18*x2)**2-0.6692*(0.1*x1+0.9*x2)**2-0.6692*(8/9*x1-1/18*x2)*(0.1*x1+0.9*x2)>=0\n",
    "\n",
    "\n",
    "\n",
    "cons1 = ForAll(xvars,Implies(And(pre), inv))\n",
    "cons2 = ForAll(xvars,Implies(And(inv, guard1, loop_cond), inv_f1))\n",
    "cons3 = ForAll(xvars,Implies(And(inv, Not(loop_cond)),post))\n",
    "               \n",
    "s = Solver()\n",
    "s.add( cons1, cons2, cons3)\n",
    "print(s.check())"
   ]
  },
  {
   "cell_type": "markdown",
   "id": "9f4fcccc",
   "metadata": {},
   "source": [
    "# deter"
   ]
  },
  {
   "cell_type": "code",
   "execution_count": 1,
   "id": "071d77f1",
   "metadata": {},
   "outputs": [
    {
     "name": "stdout",
     "output_type": "stream",
     "text": [
      "sat\n",
      "[]\n",
      "Consume Time: 0.01478171 s\n",
      "\n"
     ]
    }
   ],
   "source": [
    "# with template  inv=a0+a1*x2^2+a2*x1^2+a3*x1;\n",
    "from z3 import *\n",
    "import time\n",
    "start = time.time()\n",
    "x1,x2,a1,a2,a3 = Reals('x1 x2 a1 a2 a3')\n",
    "xvars = [x1,x2]\n",
    "xrange = And(x1>=-10, x1<=10, x2>=-10,x2<=10)\n",
    "\n",
    "loop_cond =4-(x1-2)**2 -(x2-4)**2>=0\n",
    "\n",
    "pre =1-(x1-2)**2 -(x2-4)**2>=0\n",
    "post =x2<=4\n",
    "inv =5.805+12.180*x1-3.027*x1**2-0.719*x2**2>=0\n",
    "\n",
    "x1_f=x1 + 0.1*x2\n",
    "x2_f=x2+(x2*(1-x1**2)-x1)*0.1\n",
    "\n",
    "inv_f1 = 5.805+12.180*x1-3.027*x1**2-0.719*x2**2>=0\n",
    "\n",
    "\n",
    "\n",
    "cons1 = ForAll(xvars,Implies(And(pre, xrange), inv))\n",
    "cons2 = ForAll(xvars,Implies(And(inv, loop_cond, xrange), inv_f1))\n",
    "cons3 = ForAll(xvars,Implies(And(inv, Not(loop_cond),xrange),post))\n",
    "               \n",
    "s = Solver()\n",
    "s.add( cons1, cons2, cons3)\n",
    "print(s.check())\n",
    "print(s.model())\n",
    "end = time.time()\n",
    "print(\"Consume Time: %.8f s\\n\"%((end-start)))"
   ]
  },
  {
   "cell_type": "markdown",
   "id": "91b63f45",
   "metadata": {},
   "source": [
    "# bound"
   ]
  },
  {
   "cell_type": "markdown",
   "id": "86291239",
   "metadata": {},
   "source": [
    "template2: 0.497260 1 iteration. lambda is -0.0000000023 inv=3.80654479465-2.67319350479*x1^2-2.24929502806*x2^2"
   ]
  },
  {
   "cell_type": "code",
   "execution_count": 1,
   "id": "b2acfefa",
   "metadata": {},
   "outputs": [
    {
     "name": "stdout",
     "output_type": "stream",
     "text": [
      "sat\n",
      "[]\n",
      "Consume Time: 0.00880051 s\n",
      "\n"
     ]
    }
   ],
   "source": [
    "# deter time out\n",
    "# with template2 inv =  a1*x1**2 + a2*x2**2 + a3\n",
    "# x is bounded,\n",
    "from z3 import *\n",
    "import time\n",
    "start = time.time()\n",
    "x1,x2,a0,a1,a2,a3,a4,a5 = Reals('x1 x2 a0 a1 a2 a3 a4 a5')\n",
    "xvars = [x1,x2]\n",
    "xrange = And(x1>=-5, x1<=5, x2>=-5,x2<=5)\n",
    "\n",
    "loop_cond = -x1**2 -x2**2 + 2>=0\n",
    "\n",
    "pre1 =(x1-0.9)*(1.1-x1)>= 0\n",
    "pre2=x2*(0.2-x2)>=0\n",
    "post =x2+2*x1-2<=0\n",
    "inv =3.80654479465-2.67319350479*x1**2-2.24929502806*x2**2>=0\n",
    "\n",
    "x1_f=0.5*x1**2+ 0.4*x2**2\n",
    "x2_f=-0.6*x1**2+0.3*x2**2\n",
    "\n",
    "inv_f1 =3.80654479465-2.67319350479*x1**2-2.24929502806*x2**2>=0\n",
    "\n",
    "\n",
    "\n",
    "cons1 = ForAll(xvars,Implies(And(pre1,pre2, xrange), inv))\n",
    "cons2 = ForAll(xvars,Implies(And(inv, loop_cond, xrange), inv_f1))\n",
    "cons3 = ForAll(xvars,Implies(And(inv, Not(loop_cond),xrange),post))\n",
    "               \n",
    "s = Solver()\n",
    "s.add( cons1, cons2, cons3)\n",
    "print(s.check())\n",
    "print(s.model())\n",
    "end = time.time()\n",
    "print(\"Consume Time: %.8f s\\n\"%((end-start)))"
   ]
  },
  {
   "cell_type": "markdown",
   "id": "f6089383",
   "metadata": {},
   "source": [
    "# bound2 "
   ]
  },
  {
   "cell_type": "markdown",
   "id": "68e1b918",
   "metadata": {},
   "source": [
    "template2 :0.173091 iter 0 2.65851915747-2.69719496218*x1^2-2.69719497708*x2^2"
   ]
  },
  {
   "cell_type": "code",
   "execution_count": 1,
   "id": "f3478f54",
   "metadata": {},
   "outputs": [
    {
     "name": "stdout",
     "output_type": "stream",
     "text": [
      "sat\n",
      "[]\n",
      "Consume Time: 0.02991533 s\n",
      "\n"
     ]
    }
   ],
   "source": [
    "# template 2\n",
    "# a1*x1**2 + a2*x2**2 + a3\n",
    "from z3 import *\n",
    "import time\n",
    "start = time.time()\n",
    "x1,x2,a1,a2,a3 = Reals('x1 x2 a1 a2 a3')\n",
    "xvars = [x1,x2]\n",
    "xrange = And(x1>=-5, x1<=5, x2>=-5,x2<=5)\n",
    "\n",
    "loop_cond = -x1**2 -x2**2 +1>=0\n",
    "\n",
    "pre1 =(x1-0.5)*(0.7-x1)>= 0\n",
    "pre2=(x2-0.5)*(0.7-x2)>= 0\n",
    "post =x1**2+x2**2-0.36<=0\n",
    "inv =2.65851915747-2.69719496218*x1**2-2.69719497708*x2**2>=0\n",
    "\n",
    "x1_f=0.5*x1**3+ 0.4*x2**2\n",
    "x2_f=-0.6*x1**2+0.3*x2**2\n",
    "\n",
    "inv_f1 =2.65851915747-2.69719496218*x1_f**2-2.69719497708*x2_f**2>=0\n",
    "\n",
    "\n",
    "\n",
    "cons1 = ForAll(xvars,Implies(And(pre1,pre2, xrange), inv))\n",
    "cons2 = ForAll(xvars,Implies(And(inv, loop_cond, xrange), inv_f1))\n",
    "cons3 = ForAll(xvars,Implies(And(inv, Not(loop_cond),xrange),post))\n",
    "               \n",
    "s = Solver()\n",
    "s.add( cons1, cons2, cons3)\n",
    "print(s.check())\n",
    "print(s.model())\n",
    "end = time.time()\n",
    "print(\"Consume Time: %.8f s\\n\"%((end-start)))"
   ]
  },
  {
   "cell_type": "markdown",
   "id": "34c5f446",
   "metadata": {},
   "source": [
    "# Contrived"
   ]
  },
  {
   "cell_type": "code",
   "execution_count": 1,
   "id": "4711ece5",
   "metadata": {},
   "outputs": [
    {
     "name": "stdout",
     "output_type": "stream",
     "text": [
      "sat\n",
      "[]\n",
      "Consume Time: 0.11209321 s\n",
      "\n"
     ]
    }
   ],
   "source": [
    "# with template 2：-1+a1*x1+a2*x2+a3*x2**2+a4*x1*x2\n",
    "# iteration 1 -1+0.6270503287*x1+2.08088447703*x2-0.446562597584*x1^2-0.436896016503*x2^2\n",
    "# 0.490700 second\n",
    "\n",
    "from z3 import *\n",
    "import time\n",
    "start = time.time()\n",
    "x1,x2,a1,a2,a3 = Reals('x1 x2 a1 a2 a3')\n",
    "xvars = [x1,x2]\n",
    "xrange = And(x1>=-10, x1<=10, x2>=-10,x2<=10)\n",
    "\n",
    "loop_cond = 4-x1**2-(x2 -3)**2>=0\n",
    "\n",
    "pre = 1-x1**2-(x2 -3)**2>= 0\n",
    "post =(x1-2)**2+(x2-2)**2-9<=0\n",
    "inv =-1+0.6270503287*x1+2.08088447703*x2-0.446562597584*x1**2-0.436896016503*x2**2>=0\n",
    "\n",
    "x1_f=(x2-x1)*0.1+x1\n",
    "x2_f=0.9*x2\n",
    "\n",
    "inv_f1 =-1+0.6270503287*x1_f+2.08088447703*x2_f-0.446562597584*x1_f**2-0.436896016503*x2_f**2>=0\n",
    "\n",
    "\n",
    "\n",
    "cons1 = ForAll(xvars,Implies(And(pre, xrange), inv))\n",
    "cons2 = ForAll(xvars,Implies(And(inv, loop_cond, xrange), inv_f1))\n",
    "cons3 = ForAll(xvars,Implies(And(inv, Not(loop_cond),xrange),post))\n",
    "               \n",
    "s = Solver()\n",
    "s.add( cons1, cons2, cons3)\n",
    "print(s.check())\n",
    "print(s.model())\n",
    "end = time.time()\n",
    "print(\"Consume Time: %.8f s\\n\"%((end-start)))"
   ]
  },
  {
   "cell_type": "markdown",
   "id": "ce9c01c8",
   "metadata": {},
   "source": [
    "# transcend"
   ]
  },
  {
   "cell_type": "markdown",
   "id": "7218208c",
   "metadata": {},
   "source": [
    "template: inv=a0-x1^2-x2^2+a1*x2"
   ]
  },
  {
   "cell_type": "markdown",
   "id": "c2f107be",
   "metadata": {},
   "source": [
    "0.971798 second 3 iteration "
   ]
  },
  {
   "cell_type": "markdown",
   "id": "c4a1f368",
   "metadata": {},
   "source": [
    "solution: -0.0733780053491+3.09723393784*x2-x1^2-x2^2"
   ]
  },
  {
   "cell_type": "code",
   "execution_count": 3,
   "id": "dbbd46f0",
   "metadata": {},
   "outputs": [
    {
     "name": "stdout",
     "output_type": "stream",
     "text": [
      "sat\n",
      "[]\n",
      "Consume Time: 24.97486687 s\n",
      "\n"
     ]
    }
   ],
   "source": [
    "# with template 2：inv=a0-x1^2-x2^2+a1*x2;\n",
    "\n",
    "from z3 import *\n",
    "import time\n",
    "start = time.time()\n",
    "x1,x2,a1,a2,a3 = Reals('x1 x2 a1 a2 a3')\n",
    "xvars = [x1,x2]\n",
    "xrange = And(x1>=-5, x1<=5, x2>=-5,x2<=5)\n",
    "\n",
    "loop_cond = 3-x1**2-(x2-2)**2>=0\n",
    "\n",
    "pre =1-x1**2-(x2-2)**2>= 0\n",
    "post =0.2*x2**2-2+x2<=0\n",
    "inv =-0.0733780053491+3.09723393784*x2-x1**2-x2**2>=0\n",
    "\n",
    "x1_f=0.9*x1\n",
    "x2_f=x2-0.1*x2*(1+x1)\n",
    "\n",
    "inv_f1 =-0.0733780053491+3.09723393784*x2_f-x1_f**2-x2_f**2>=0\n",
    "\n",
    "\n",
    "\n",
    "cons1 = ForAll(xvars,Implies(And(pre, xrange), inv))\n",
    "cons2 = ForAll(xvars,Implies(And(inv, loop_cond, xrange), inv_f1))\n",
    "cons3 = ForAll(xvars,Implies(And(inv, Not(loop_cond),xrange),post))\n",
    "               \n",
    "s = Solver()\n",
    "s.add( cons1, cons2, cons3)\n",
    "print(s.check())\n",
    "print(s.model())\n",
    "end = time.time()\n",
    "print(\"Consume Time: %.8f s\\n\"%((end-start)))"
   ]
  },
  {
   "cell_type": "markdown",
   "id": "6763314a",
   "metadata": {},
   "source": [
    "# lyapunov"
   ]
  },
  {
   "cell_type": "markdown",
   "id": "f2490105",
   "metadata": {},
   "source": [
    " template 2:a0+a1*x1^2+a2*x2^2+a3*x3^2+a4*x1*x2+a5*x2*x3+a6*x1*x3"
   ]
  },
  {
   "cell_type": "markdown",
   "id": "80545a56",
   "metadata": {},
   "source": [
    " 3.853508 second 4 iteration. lambda is -0.0000000004 "
   ]
  },
  {
   "cell_type": "markdown",
   "id": "31964936",
   "metadata": {},
   "source": [
    "2.95274508146-2.26485900539*x1^2-2.30775916539*x2^2-1.34969469255*x3^2-0.720088805053*x1*x2+1.11078137627*x1*x3-3.97724311243*x2*x3"
   ]
  },
  {
   "cell_type": "code",
   "execution_count": null,
   "id": "e4fcb425",
   "metadata": {},
   "outputs": [],
   "source": [
    "\n",
    "from z3 import *\n",
    "import time\n",
    "start = time.time()\n",
    "x1,x2,x3 = Reals('x1 x2 x3')\n",
    "xvars = [x1,x2,x3]\n",
    "xrange = And(x1>=-5, x1<=5, x2>=-5,x2<=5,x3>=-5,x3<=5)\n",
    "\n",
    "loop_cond = 9-x1**2-x2**2-x3**2>=0\n",
    "\n",
    "pre =x1**2 +x2**2 +x3**2-0.25<= 0\n",
    "post =-2*x1-2*x2-2*x3-x1**2-x2**2-x3**2+x1*x2+x1*x3+x2*x3<=0\n",
    "inv =2.952-2.264*x1**2-2.307*x2**2-1.349*x3**2-0.720*x1*x2+1.110*x1*x3-3.977*x2*x3>=0\n",
    "\n",
    "x1_f=x1-0.1*x2\n",
    "x2_f=x2-0.1*x3\n",
    "x3_f=x3+(-x1-2*x2 -x3 + x1**3)*0.1\n",
    "\n",
    "inv_f1 =2.952-2.264*x1_f**2-2.307*x2_f**2-1.349*x3_f**2-0.720*x1_f*x2_f+1.110*x1_f*x3_f-3.977*x2_f*x3_f>=0\n",
    "\n",
    "\n",
    "\n",
    "cons1 = ForAll(xvars,Implies(And(pre, xrange), inv))\n",
    "cons2 = ForAll(xvars,Implies(And(inv, loop_cond, xrange), inv_f1))\n",
    "cons3 = ForAll(xvars,Implies(And(inv, Not(loop_cond),xrange),post))\n",
    "               \n",
    "s = Solver()\n",
    "s.add( cons1, cons2, cons3)\n",
    "print(s.check())\n",
    "print(s.model())\n",
    "end = time.time()\n",
    "print(\"Consume Time: %.8f s\\n\"%((end-start)))"
   ]
  },
  {
   "cell_type": "markdown",
   "id": "93518f6e",
   "metadata": {},
   "source": [
    "# motivate"
   ]
  },
  {
   "cell_type": "markdown",
   "id": "b6a1754e",
   "metadata": {},
   "source": [
    "template 2: a0+a1*x2+a2*x2^2+a3*x3"
   ]
  },
  {
   "cell_type": "markdown",
   "id": "c9799667",
   "metadata": {},
   "source": [
    "1.026327 second 1 iteration -12.5168016208-0.912662070749*x2+5.47029073943*x3-3.87285688028*x2^2"
   ]
  },
  {
   "cell_type": "code",
   "execution_count": 1,
   "id": "49938864",
   "metadata": {},
   "outputs": [
    {
     "name": "stdout",
     "output_type": "stream",
     "text": [
      "sat\n",
      "[]\n",
      "Consume Time: 0.01502991 s\n",
      "\n"
     ]
    }
   ],
   "source": [
    "from z3 import *\n",
    "import time\n",
    "start = time.time()\n",
    "x1,x2,x3 = Reals('x1 x2 x3')\n",
    "xvars = [x1,x2,x3]\n",
    "xrange = And(x1>=-10, x1<=10, x2>=-10,x2<=10,x3>=-10,x3<=10)\n",
    "\n",
    "loop_cond =-(x1-3)**2 - x2**2 - (x3-3)**2 + 2>=0\n",
    "\n",
    "pre =-(x1-3)**2 - x2**2 - (x3-3)**2 + 0.25>=0\n",
    "post =-x3 + 0.5*x2**2 + 1<=0\n",
    "inv =-12.5168016208-0.912662070749*x2+5.47029073943*x3-3.87285688028*x2**2>=0\n",
    "\n",
    "x1_f=x1+0.1*(2*x1+x2)\n",
    "x2_f=x2+0.1*(x1+9*x2+1/2*x3)\n",
    "x3_f=x3+0.1*(2*x2+16*x3)\n",
    "\n",
    "inv_f1 =-12.5168016208-0.912662070749*x2_f+5.47029073943*x3_f-3.87285688028*x2_f**2>=0\n",
    "\n",
    "\n",
    "\n",
    "cons1 = ForAll(xvars,Implies(And(pre, xrange), inv))\n",
    "cons2 = ForAll(xvars,Implies(And(inv, loop_cond, xrange), inv_f1))\n",
    "cons3 = ForAll(xvars,Implies(And(inv, Not(loop_cond),xrange),post))\n",
    "               \n",
    "s = Solver()\n",
    "s.add( cons3)\n",
    "print(s.check())\n",
    "print(s.model())\n",
    "end = time.time()\n",
    "print(\"Consume Time: %.8f s\\n\"%((end-start)))"
   ]
  },
  {
   "cell_type": "code",
   "execution_count": null,
   "id": "3be019df",
   "metadata": {},
   "outputs": [],
   "source": []
  },
  {
   "cell_type": "markdown",
   "id": "56f59c6c",
   "metadata": {},
   "source": [
    "# basin"
   ]
  },
  {
   "cell_type": "markdown",
   "id": "f986eafc",
   "metadata": {},
   "source": [
    "19 iteration solution is found. lambda is -0.0000000017 \n",
    "2.5293-0.5925*x1-3.221*x2-7.409*x1**2-0.5179*x2**2"
   ]
  },
  {
   "cell_type": "code",
   "execution_count": 1,
   "id": "28561b7d",
   "metadata": {},
   "outputs": [
    {
     "name": "stdout",
     "output_type": "stream",
     "text": [
      "sat\n",
      "[]\n",
      "Consume Time: 595.77674651 s\n",
      "\n"
     ]
    }
   ],
   "source": [
    "from z3 import *\n",
    "import time\n",
    "start = time.time()\n",
    "x1,x2,a1,a2,a3 = Reals('x1 x2 a1 a2 a3')\n",
    "xvars = [x1,x2]\n",
    "xrange = And(x1>=-5, x1<=5, x2>=-5,x2<=5)\n",
    "\n",
    "loop_cond = 3-x1**2-x2**2>=0\n",
    "\n",
    "pre =0.25-x1**2-x2**2>= 0\n",
    "post =2*x2+x1**2-1<=0\n",
    "inv=2.5293-0.5925*x1-3.221*x2-7.409*x1**2-0.5179*x2**2 >=0\n",
    "\n",
    "x1_f=(-0.42*x1-1.05*x2-2.3*x1**2-0.5*x1*x2-x1**3)*0.1+x1\n",
    "x2_f=x2+0.1*(1.98*x1+x1*x2)\n",
    "\n",
    "inv_f1 =2.5293-0.5925*x1_f-3.221*x2_f-7.409*x1_f**2-0.5179*x2_f**2>=0\n",
    "\n",
    "\n",
    "\n",
    "cons1 = ForAll(xvars,Implies(And(pre, xrange), inv))\n",
    "cons2 = ForAll(xvars,Implies(And(inv, loop_cond, xrange), inv_f1))\n",
    "cons3 = ForAll(xvars,Implies(And(inv, Not(loop_cond),xrange),post))\n",
    "               \n",
    "s = Solver()\n",
    "s.add( cons1, cons2, cons3)\n",
    "print(s.check())\n",
    "print(s.model())\n",
    "end = time.time()\n",
    "print(\"Consume Time: %.8f s\\n\"%((end-start)))"
   ]
  },
  {
   "cell_type": "code",
   "execution_count": null,
   "id": "35e29c16",
   "metadata": {},
   "outputs": [],
   "source": []
  }
 ],
 "metadata": {
  "kernelspec": {
   "display_name": "Python 3 (ipykernel)",
   "language": "python",
   "name": "python3"
  },
  "language_info": {
   "codemirror_mode": {
    "name": "ipython",
    "version": 3
   },
   "file_extension": ".py",
   "mimetype": "text/x-python",
   "name": "python",
   "nbconvert_exporter": "python",
   "pygments_lexer": "ipython3",
   "version": "3.12.4"
  }
 },
 "nbformat": 4,
 "nbformat_minor": 5
}
